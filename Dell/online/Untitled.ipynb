{
 "cells": [
  {
   "cell_type": "code",
   "execution_count": 25,
   "metadata": {},
   "outputs": [],
   "source": [
    "from flask import request, redirect\n",
    "from flask import Flask\n",
    "from flask import jsonify\n",
    "from flask import send_file"
   ]
  },
  {
   "cell_type": "code",
   "execution_count": 26,
   "metadata": {},
   "outputs": [],
   "source": [
    "app = Flask(__name__)"
   ]
  },
  {
   "cell_type": "code",
   "execution_count": 27,
   "metadata": {},
   "outputs": [],
   "source": [
    "@app.route('/signup.html', methods = ['POST','GET'])\n",
    "def signup():\n",
    "    trigger = 0\n",
    "    username = request.form['username']\n",
    "    password = request.form['password']\n",
    "    f = open(\"user_pass.txt\", \"r\")\n",
    "    for x in f:\n",
    "        data = x.split(\" \")\n",
    "        if data[0]==username and data[1]==password:\n",
    "            trigger = 1\n",
    "            break\n",
    "    if trigger == 1:\n",
    "        return redirect(\"/livechart.html\", code=302)\n",
    "    else:\n",
    "        return redirect(\"/noresponse.html\", code=302)\n",
    "        "
   ]
  },
  {
   "cell_type": "code",
   "execution_count": 22,
   "metadata": {},
   "outputs": [],
   "source": [
    "@app.route('/index.html')\n",
    "def index():\n",
    "\treturn send_file('index.html')"
   ]
  },
  {
   "cell_type": "code",
   "execution_count": 23,
   "metadata": {},
   "outputs": [
    {
     "name": "stderr",
     "output_type": "stream",
     "text": [
      " * Running on http://0.0.0.0:9999/ (Press CTRL+C to quit)\n",
      " * Restarting with stat\n"
     ]
    },
    {
     "ename": "SystemExit",
     "evalue": "1",
     "output_type": "error",
     "traceback": [
      "An exception has occurred, use %tb to see the full traceback.\n",
      "\u001b[0;31mSystemExit\u001b[0m\u001b[0;31m:\u001b[0m 1\n"
     ]
    },
    {
     "name": "stderr",
     "output_type": "stream",
     "text": [
      "/Users/rishabhrustogi/anaconda3/lib/python3.5/site-packages/IPython/core/interactiveshell.py:2918: UserWarning: To exit: use 'exit', 'quit', or Ctrl-D.\n",
      "  warn(\"To exit: use 'exit', 'quit', or Ctrl-D.\", stacklevel=1)\n"
     ]
    }
   ],
   "source": [
    "if __name__ == '__main__':\n",
    "    app.run(host='0.0.0.0',port=9999, debug=True)"
   ]
  },
  {
   "cell_type": "code",
   "execution_count": 13,
   "metadata": {},
   "outputs": [
    {
     "name": "stdout",
     "output_type": "stream",
     "text": [
      "rishabh\n",
      "samyak\n",
      "ayush\n",
      "kritika\n"
     ]
    }
   ],
   "source": [
    "f = open(\"user_pass.txt\", \"r\")\n",
    "for x in f:\n",
    "    data = x.split(\" \")\n",
    "    print(data[0])"
   ]
  },
  {
   "cell_type": "code",
   "execution_count": 41,
   "metadata": {},
   "outputs": [
    {
     "name": "stdout",
     "output_type": "stream",
     "text": [
      "rishabh1\n",
      "1\n"
     ]
    }
   ],
   "source": [
    "username = 'rishabh'\n",
    "password = 'rishabh1'\n",
    "trigger = 0\n",
    "f = open(\"user_pass.txt\", \"r\")\n",
    "for x in f:\n",
    "    data = x.split(\" \")\n",
    "    print(data[1])\n",
    "    if data[0]==username and data[1]==password:\n",
    "        trigger = 1\n",
    "        break\n",
    "print(trigger)"
   ]
  },
  {
   "cell_type": "code",
   "execution_count": 68,
   "metadata": {},
   "outputs": [],
   "source": [
    "from flask import request, redirect\n",
    "from flask import Flask\n",
    "from flask import jsonify\n",
    "from flask import send_file\n",
    "import numpy as np\n",
    "import pandas as pd\n",
    "import matplotlib.pyplot as plt\n",
    "from sklearn.preprocessing import MinMaxScaler\n",
    "from keras.layers.core import Dense, Activation, Dropout\n",
    "from keras.layers.recurrent import LSTM\n",
    "from keras.models import Sequential\n",
    "from keras.models import Model\n",
    "from keras.callbacks import ModelCheckpoint,ReduceLROnPlateau,EarlyStopping\n",
    "from keras.layers import Dense, Embedding, BatchNormalization, Input\n",
    "import math\n",
    "from sklearn.linear_model import LinearRegression\n",
    "from sklearn.preprocessing import PolynomialFeatures  \n",
    "import json\n"
   ]
  },
  {
   "cell_type": "code",
   "execution_count": 69,
   "metadata": {},
   "outputs": [],
   "source": []
  },
  {
   "cell_type": "code",
   "execution_count": 72,
   "metadata": {},
   "outputs": [],
   "source": [
    "def prediction_product(arr) :\n",
    "    data = pd.read_csv('Data_v3.csv')\n",
    "    data = data.drop(['Model Age'],axis = 1)\n",
    "    data = data.drop(['S. No.'],axis = 1)\n",
    "    data = data.drop(['Offer Number'],axis = 1)\n",
    "    model_list = pd.read_csv('model.csv')\n",
    "    model_list['Price'] = model_list['Price']/1000\n",
    "    print(model_list)\n",
    "    model_T = model_list.iloc[:,1:].T\n",
    "    model_T.insert(loc=0,column='Test',value=arr)\n",
    "    model_coer = model_T.corr()\n",
    "    print(model_coer)\n",
    "    list_coer = list(model_coer['Test'])\n",
    "    temp = 0\n",
    "    index = 0\n",
    "    for i in range(len(list_coer)-1) :\n",
    "        if temp < list_coer[i+1] :\n",
    "            temp = list_coer[i+1]\n",
    "            index = i\n",
    "    existing_model = model_list.loc[index][0]\n",
    "\n",
    "    prediction = []\n",
    "    a=[0]*8\n",
    "   \t\n",
    "    for index,row in data.iterrows():\n",
    "        if row['Product Model'] == existing_model and row['Year']>2016 and row['Year']<2019:\n",
    "            if row['Area']==1:\n",
    "                a[0]=a[0]+1\n",
    "            if row['Area']==2:\n",
    "                a[1]=a[1]+1\n",
    "            if row['Area']==3:\n",
    "                a[2]=a[2]+1\n",
    "            if row['Area']==4:\n",
    "                a[3]=a[3]+1\n",
    "            if row['Area']==5:\n",
    "                a[4]=a[4]+1\n",
    "            if row['Area']==6:\n",
    "                a[5]=a[5]+1\n",
    "            if row['Area']==7:\n",
    "                a[6]=a[6]+1\n",
    "            if row['Area']==8:\n",
    "                a[7]=a[7]+1\n",
    "    \n",
    "    names = 'This model is similar to existing model'+existing_model\n",
    "    market = np.asarray(a)\n",
    "    main_list = []\n",
    "    for i in range(data['Area'].nunique()): \n",
    "        data_dict = {'x':i+1,'y':a[i]}\n",
    "        main_list.append(data_dict)\n",
    "\t\n",
    "    main_dict = {'title':names,'xaxis':'Areas','yaxis':'Volume of sales','data':main_list}\n",
    "    print(main_dict)"
   ]
  },
  {
   "cell_type": "code",
   "execution_count": 75,
   "metadata": {},
   "outputs": [
    {
     "name": "stdout",
     "output_type": "stream",
     "text": [
      "             Model   RAM (GB)  Processor  Graphic  Battery    Price\n",
      "0  Inspiron 15 3000       4.0        3.0      0.0     40.0   30.680\n",
      "1  Inspiron 15 7572       8.0        5.0      2.0     42.0   62.989\n",
      "2          XPS 9370       8.0        5.0      4.0     52.0   98.990\n",
      "3    Precision 5520      16.0        7.0      8.0     56.0  200.000\n",
      "4      Alienware 15      16.0        7.0      8.0     68.0  137.890\n",
      "          Test         0         1         2         3         4\n",
      "Test  1.000000  0.660214  0.923670  0.966635  1.000000  0.976793\n",
      "0     0.660214  1.000000  0.897262  0.830114  0.660214  0.804845\n",
      "1     0.923670  0.897262  1.000000  0.990314  0.923670  0.983681\n",
      "2     0.966635  0.830114  0.990314  1.000000  0.966635  0.998578\n",
      "3     1.000000  0.660214  0.923670  0.966635  1.000000  0.976793\n",
      "4     0.976793  0.804845  0.983681  0.998578  0.976793  1.000000\n",
      "{'title': 'This model is similar to existing modelPrecision 5520', 'yaxis': 'Volume of sales', 'data': [{'x': 1, 'y': 10}, {'x': 2, 'y': 7}, {'x': 3, 'y': 10}, {'x': 4, 'y': 2}, {'x': 5, 'y': 5}, {'x': 6, 'y': 3}, {'x': 7, 'y': 0}, {'x': 8, 'y': 4}], 'xaxis': 'Areas'}\n"
     ]
    }
   ],
   "source": [
    "prediction_product([16, 7, 8, 56, 200.0]) #[16, 7, 8, 56, 200.0]"
   ]
  },
  {
   "cell_type": "code",
   "execution_count": null,
   "metadata": {},
   "outputs": [],
   "source": []
  },
  {
   "cell_type": "code",
   "execution_count": null,
   "metadata": {},
   "outputs": [],
   "source": []
  }
 ],
 "metadata": {
  "kernelspec": {
   "display_name": "Python 3",
   "language": "python",
   "name": "python3"
  },
  "language_info": {
   "codemirror_mode": {
    "name": "ipython",
    "version": 3
   },
   "file_extension": ".py",
   "mimetype": "text/x-python",
   "name": "python",
   "nbconvert_exporter": "python",
   "pygments_lexer": "ipython3",
   "version": "3.5.4"
  }
 },
 "nbformat": 4,
 "nbformat_minor": 2
}
